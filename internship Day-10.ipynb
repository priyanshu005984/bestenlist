{
 "cells": [
  {
   "cell_type": "code",
   "execution_count": 3,
   "metadata": {},
   "outputs": [
    {
     "name": "stdout",
     "output_type": "stream",
     "text": [
      "True\n"
     ]
    }
   ],
   "source": [
    "import re\n",
    "def S(a):\n",
    "    b=re.compile(r'[^a-zA-z0-9.]')\n",
    "    a=b.search(a)\n",
    "    return not bool(a)\n",
    "print(S(\"ABCDEabcd12345\"))"
   ]
  },
  {
   "cell_type": "code",
   "execution_count": 4,
   "metadata": {},
   "outputs": [
    {
     "name": "stdout",
     "output_type": "stream",
     "text": [
      "Found\n",
      "Not Found\n"
     ]
    }
   ],
   "source": [
    "import re\n",
    "def match(a):\n",
    "    p=\"\\w*ab.\\w*\"\n",
    "    if re.search(p,a):\n",
    "        return \"Found\"\n",
    "    else:\n",
    "        return \"Not Found\"\n",
    "    \n",
    "print(match(\"a ab abc\"))\n",
    "print(match(\"internship\"))"
   ]
  },
  {
   "cell_type": "code",
   "execution_count": 7,
   "metadata": {},
   "outputs": [
    {
     "name": "stdout",
     "output_type": "stream",
     "text": [
      "True\n",
      "False\n"
     ]
    }
   ],
   "source": [
    "import re\n",
    "def f(n):\n",
    "    a=re.compile(r\".*[0-9]$\")\n",
    "    if a.match(n):\n",
    "        return True\n",
    "    return False\n",
    "\n",
    "print(f(\"123456\"))\n",
    "print(f(\"internship\"))"
   ]
  },
  {
   "cell_type": "code",
   "execution_count": 9,
   "metadata": {},
   "outputs": [
    {
     "name": "stdout",
     "output_type": "stream",
     "text": [
      "9\n",
      "90\n",
      "123\n",
      "234\n",
      "145\n"
     ]
    }
   ],
   "source": [
    "import re\n",
    "d=re.finditer(r\"([0-9]{1,3})\",\"9,90,123,234,145\")\n",
    "for i in d:\n",
    "    print(i.group(0))"
   ]
  },
  {
   "cell_type": "code",
   "execution_count": 16,
   "metadata": {},
   "outputs": [
    {
     "name": "stdout",
     "output_type": "stream",
     "text": [
      "I am Pursiung Btech\n",
      "['I', 'P', 'B']\n"
     ]
    }
   ],
   "source": [
    "import re\n",
    "n=input()\n",
    "a=re.findall(\"[A-Z]\",n)\n",
    "print(a)"
   ]
  },
  {
   "cell_type": "code",
   "execution_count": null,
   "metadata": {},
   "outputs": [],
   "source": []
  }
 ],
 "metadata": {
  "kernelspec": {
   "display_name": "Python 3",
   "language": "python",
   "name": "python3"
  },
  "language_info": {
   "codemirror_mode": {
    "name": "ipython",
    "version": 3
   },
   "file_extension": ".py",
   "mimetype": "text/x-python",
   "name": "python",
   "nbconvert_exporter": "python",
   "pygments_lexer": "ipython3",
   "version": "3.8.3"
  }
 },
 "nbformat": 4,
 "nbformat_minor": 4
}
