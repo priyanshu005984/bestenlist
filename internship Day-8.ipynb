{
 "cells": [
  {
   "cell_type": "code",
   "execution_count": null,
   "metadata": {},
   "outputs": [],
   "source": [
    "print(\"SyntaxError: \")\n",
    "len(\"internship\")=10\n",
    "\n",
    "print(\"NameError: \")\n",
    "pqr\n",
    "\n",
    "print(\"IndexError: \")\n",
    "l1=[1,2,3,45,56,7,78]\n",
    "l1[9]\n",
    "\n",
    "print(\"ZeroDivisionError: \")\n",
    "x=8/0\n",
    "print(x)\n",
    "\n",
    "print(\"KeyError: \")\n",
    "dic1={1:\"name\",2:\"class\",3:\"rollno\"}\n",
    "dic1[4]\n",
    "\n",
    "print(\"IndentationError: \")\n",
    "if i>40:\n",
    "print(50)\n",
    "\n",
    "print(\"TypeError: \")\n",
    "\"88\"+58\n",
    "\n",
    "print(\"ImportError: \")\n",
    "from math import sqaure\n",
    "\n",
    "print(\"ValueError: \")\n",
    "int(\"I am studing right now\")\n",
    "\n",
    "print(\"ModuleNotFoundError: \")\n",
    "import abcd"
   ]
  },
  {
   "cell_type": "code",
   "execution_count": null,
   "metadata": {},
   "outputs": [
    {
     "name": "stdout",
     "output_type": "stream",
     "text": [
      "4\n",
      "15\n",
      "0\n",
      "\n",
      "15 can't be divided by zero\n"
     ]
    }
   ],
   "source": [
    "n=int(input())\n",
    "while n>0:\n",
    "    if n==1:\n",
    "        a=int(input())\n",
    "        b=int(input())\n",
    "        print(a+b)\n",
    "    elif n==2:\n",
    "        a=int(input())\n",
    "        b=int(input())\n",
    "        print(a-b)\n",
    "    elif n==3:\n",
    "        a=int(input())\n",
    "        b=int(input())\n",
    "        print(a*b)\n",
    "    elif n==4:\n",
    "        a=int(input())\n",
    "        b=int(input())\n",
    "        try:\n",
    "            print(a/b)\n",
    "        except ZeroDivisionError:\n",
    "            print()\n",
    "            print(a,\"can't be divided by zero\")\n",
    "    else:\n",
    "        print(\"Invalid Input\")"
   ]
  },
  {
   "cell_type": "code",
   "execution_count": 10,
   "metadata": {},
   "outputs": [
    {
     "name": "stdout",
     "output_type": "stream",
     "text": [
      "You should define variable.\n"
     ]
    }
   ],
   "source": [
    "try:\n",
    "    print(x)\n",
    "except NameError:\n",
    "        print(\"You should define variable.\")"
   ]
  },
  {
   "cell_type": "markdown",
   "metadata": {},
   "source": [
    "### Try-except scenario is not requied when there is no run time error"
   ]
  },
  {
   "cell_type": "code",
   "execution_count": 6,
   "metadata": {},
   "outputs": [
    {
     "name": "stdout",
     "output_type": "stream",
     "text": [
      "4\n",
      "2\n",
      "2.0\n"
     ]
    }
   ],
   "source": [
    "try:\n",
    "        a=int(input())\n",
    "        b=int(input())\n",
    "        print(a/b)\n",
    "except ZeroDivisionError:\n",
    "        print(a,\"can't be divided by zero\")"
   ]
  },
  {
   "cell_type": "code",
   "execution_count": null,
   "metadata": {},
   "outputs": [],
   "source": []
  }
 ],
 "metadata": {
  "kernelspec": {
   "display_name": "Python 3",
   "language": "python",
   "name": "python3"
  },
  "language_info": {
   "codemirror_mode": {
    "name": "ipython",
    "version": 3
   },
   "file_extension": ".py",
   "mimetype": "text/x-python",
   "name": "python",
   "nbconvert_exporter": "python",
   "pygments_lexer": "ipython3",
   "version": "3.8.3"
  }
 },
 "nbformat": 4,
 "nbformat_minor": 4
}
