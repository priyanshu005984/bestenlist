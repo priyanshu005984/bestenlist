{
 "cells": [
  {
   "cell_type": "code",
   "execution_count": 12,
   "metadata": {},
   "outputs": [
    {
     "name": "stdout",
     "output_type": "stream",
     "text": [
      "10\n",
      "5\n",
      "Addition of two numbers is 15\n",
      "Subtraction of two numbers is 5\n",
      "division of two numbers is 2\n",
      "Multiplication of two numbers is 50\n"
     ]
    }
   ],
   "source": [
    "def f(a,b):\n",
    "    print(\"Addition of two numbers is\",a+b)\n",
    "    print(\"Subtraction of two numbers is\",a-b)\n",
    "    print(\"division of two numbers is\",a//b)\n",
    "    print(\"Multiplication of two numbers is\",a*b)\n",
    "    \n",
    "a=int(input())\n",
    "b=int(input())\n",
    "f(a,b)"
   ]
  },
  {
   "cell_type": "code",
   "execution_count": 16,
   "metadata": {},
   "outputs": [
    {
     "name": "stdout",
     "output_type": "stream",
     "text": [
      "Enter Patient Name : arun\n",
      "Patient name is arun\n",
      "Patient Body temperature is 98\n"
     ]
    }
   ],
   "source": [
    "def covid(patient_name,body_temperature=98):\n",
    "    print(\"Patient name is\",patient_name)\n",
    "    print(\"Patient Body temperature is\",body_temperature)\n",
    "a=input(\"Enter Patient Name : \")\n",
    "covid(a)"
   ]
  },
  {
   "cell_type": "code",
   "execution_count": null,
   "metadata": {},
   "outputs": [],
   "source": []
  }
 ],
 "metadata": {
  "kernelspec": {
   "display_name": "Python 3",
   "language": "python",
   "name": "python3"
  },
  "language_info": {
   "codemirror_mode": {
    "name": "ipython",
    "version": 3
   },
   "file_extension": ".py",
   "mimetype": "text/x-python",
   "name": "python",
   "nbconvert_exporter": "python",
   "pygments_lexer": "ipython3",
   "version": "3.8.3"
  }
 },
 "nbformat": 4,
 "nbformat_minor": 4
}
