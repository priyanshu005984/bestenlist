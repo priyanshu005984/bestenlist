{
 "cells": [
  {
   "cell_type": "code",
   "execution_count": 1,
   "metadata": {},
   "outputs": [
    {
     "name": "stdout",
     "output_type": "stream",
     "text": [
      "[3, 4, 5, 6, 7, 8, 9]\n"
     ]
    }
   ],
   "source": [
    "list1=[1,2,3,4,5,6,7]\n",
    "new_list=[]\n",
    "for i in list1:\n",
    "    new_list.append(i+2)\n",
    "print(new_list)"
   ]
  },
  {
   "cell_type": "code",
   "execution_count": 7,
   "metadata": {},
   "outputs": [
    {
     "name": "stdout",
     "output_type": "stream",
     "text": [
      "54321\n",
      "4321\n",
      "321\n",
      "21\n",
      "1\n"
     ]
    }
   ],
   "source": [
    "for i in range(0,5):\n",
    "    for j in range(5-i,0,-1):\n",
    "        print(j,end=\"\")\n",
    "    print()"
   ]
  },
  {
   "cell_type": "code",
   "execution_count": 15,
   "metadata": {},
   "outputs": [
    {
     "name": "stdout",
     "output_type": "stream",
     "text": [
      "0\n",
      "1\n",
      "1\n",
      "2\n",
      "3\n"
     ]
    }
   ],
   "source": [
    "n=5\n",
    "a=0\n",
    "b=1\n",
    "count=0\n",
    "while count<n:\n",
    "    print(a)\n",
    "    c=a+b\n",
    "    a=b\n",
    "    b=c\n",
    "    count+=1"
   ]
  },
  {
   "cell_type": "code",
   "execution_count": 20,
   "metadata": {},
   "outputs": [
    {
     "name": "stdout",
     "output_type": "stream",
     "text": [
      "371\n",
      "true\n"
     ]
    }
   ],
   "source": [
    "# 371=3**3 + 7**3 + 1**3 it is an armstrong number\n",
    "# 103 is not an armstrong number\n",
    "def checkarmstrong(n):\n",
    "    digits=0\n",
    "    num=n\n",
    "    while(num>0):\n",
    "        digits+=1\n",
    "        num=num//10\n",
    "    newNum=0\n",
    "    num=n\n",
    "    while(num>0):\n",
    "        last=num%10\n",
    "        newNum+=last**digits\n",
    "        num=num//10\n",
    "    if newNum==n:\n",
    "        return True\n",
    "    else:\n",
    "        return False\n",
    "    \n",
    "n=int(input())\n",
    "if (checkarmstrong(n)):\n",
    "    print(\"true\")\n",
    "else:\n",
    "    print(\"false\")"
   ]
  },
  {
   "cell_type": "code",
   "execution_count": 24,
   "metadata": {},
   "outputs": [
    {
     "name": "stdout",
     "output_type": "stream",
     "text": [
      "9\n",
      "18\n",
      "27\n",
      "36\n",
      "45\n",
      "54\n",
      "63\n",
      "72\n",
      "81\n",
      "90\n"
     ]
    }
   ],
   "source": [
    "for i in range(1,11):\n",
    "    print(i*9)"
   ]
  },
  {
   "cell_type": "code",
   "execution_count": 25,
   "metadata": {},
   "outputs": [
    {
     "name": "stdout",
     "output_type": "stream",
     "text": [
      "5\n",
      "5 is a positive number\n"
     ]
    }
   ],
   "source": [
    "n=int(input())\n",
    "if n<0:\n",
    "    print(n,\"is a negative number\")\n",
    "else:\n",
    "    print(n,\"is a positive number\")"
   ]
  },
  {
   "cell_type": "code",
   "execution_count": 27,
   "metadata": {},
   "outputs": [
    {
     "name": "stdout",
     "output_type": "stream",
     "text": [
      "Enter number of days: 365\n",
      "1\n"
     ]
    }
   ],
   "source": [
    "n=int(input(\"Enter number of days: \"))\n",
    "year=int(n/365)\n",
    "print(year)"
   ]
  },
  {
   "cell_type": "code",
   "execution_count": 32,
   "metadata": {},
   "outputs": [
    {
     "name": "stdout",
     "output_type": "stream",
     "text": [
      "3.5137718541444194\n"
     ]
    }
   ],
   "source": [
    "import math\n",
    "a=math.cos(0)+math.sin(90)+math.tan(45)\n",
    "print(a)"
   ]
  },
  {
   "cell_type": "code",
   "execution_count": null,
   "metadata": {},
   "outputs": [],
   "source": [
    "n=int(input())\n",
    "while n>0:\n",
    "    if n==1:\n",
    "        a=int(input())\n",
    "        b=int(input())\n",
    "        print(a+b)\n",
    "    elif n==2:\n",
    "        a=int(input())\n",
    "        b=int(input())\n",
    "        print(a-b)\n",
    "    elif n==3:\n",
    "        a=int(input())\n",
    "        b=int(input())\n",
    "        print(a*b)\n",
    "    elif n==4:\n",
    "        a=int(input())\n",
    "        b=int(input())\n",
    "        print(a//b)\n",
    "    elif n==5:\n",
    "        a=int(input())\n",
    "        b=int(input())\n",
    "        print(a%b)\n",
    "    elif n==6:\n",
    "        exit()\n",
    "    else:\n",
    "        print(\"Invalid Operation\")\n",
    "    n=int(input())"
   ]
  },
  {
   "cell_type": "code",
   "execution_count": null,
   "metadata": {},
   "outputs": [],
   "source": []
  }
 ],
 "metadata": {
  "kernelspec": {
   "display_name": "Python 3",
   "language": "python",
   "name": "python3"
  },
  "language_info": {
   "codemirror_mode": {
    "name": "ipython",
    "version": 3
   },
   "file_extension": ".py",
   "mimetype": "text/x-python",
   "name": "python",
   "nbconvert_exporter": "python",
   "pygments_lexer": "ipython3",
   "version": "3.8.3"
  }
 },
 "nbformat": 4,
 "nbformat_minor": 4
}
